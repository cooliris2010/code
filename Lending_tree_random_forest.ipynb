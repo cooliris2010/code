{
 "cells": [
  {
   "cell_type": "markdown",
   "metadata": {},
   "source": [
    "Random Forest : Data is from LendingClub.com."
   ]
  },
  {
   "cell_type": "markdown",
   "metadata": {},
   "source": [
    "<b>Import libraries to work with the data"
   ]
  },
  {
   "cell_type": "code",
   "execution_count": 1,
   "metadata": {},
   "outputs": [],
   "source": [
    "import pandas as pd\n",
    "import numpy as np\n",
    "import matplotlib.pyplot as plt\n",
    "import seaborn as sns\n",
    "%matplotlib inline"
   ]
  },
  {
   "cell_type": "markdown",
   "metadata": {},
   "source": [
    "<b>Read or extract the data "
   ]
  },
  {
   "cell_type": "code",
   "execution_count": 2,
   "metadata": {},
   "outputs": [],
   "source": [
    "loans = pd.read_csv('loan_data.csv')"
   ]
  },
  {
   "cell_type": "markdown",
   "metadata": {},
   "source": [
    "<b> Check the data "
   ]
  },
  {
   "cell_type": "code",
   "execution_count": 3,
   "metadata": {},
   "outputs": [
    {
     "data": {
      "text/plain": [
       "<bound method DataFrame.head of       credit.policy             purpose  int.rate  installment  \\\n",
       "0                 1  debt_consolidation    0.1189       829.10   \n",
       "1                 1         credit_card    0.1071       228.22   \n",
       "2                 1  debt_consolidation    0.1357       366.86   \n",
       "3                 1  debt_consolidation    0.1008       162.34   \n",
       "4                 1         credit_card    0.1426       102.92   \n",
       "5                 1         credit_card    0.0788       125.13   \n",
       "6                 1  debt_consolidation    0.1496       194.02   \n",
       "7                 1           all_other    0.1114       131.22   \n",
       "8                 1    home_improvement    0.1134        87.19   \n",
       "9                 1  debt_consolidation    0.1221        84.12   \n",
       "10                1  debt_consolidation    0.1347       360.43   \n",
       "11                1  debt_consolidation    0.1324       253.58   \n",
       "12                1  debt_consolidation    0.0859       316.11   \n",
       "13                1      small_business    0.0714        92.82   \n",
       "14                1  debt_consolidation    0.0863       209.54   \n",
       "15                1      major_purchase    0.1103       327.53   \n",
       "16                1           all_other    0.1317        77.69   \n",
       "17                1         credit_card    0.0894       476.58   \n",
       "18                1  debt_consolidation    0.1039       584.12   \n",
       "19                1      major_purchase    0.1513       173.65   \n",
       "20                1           all_other    0.0800       188.02   \n",
       "21                1           all_other    0.0863       474.42   \n",
       "22                1         credit_card    0.1355       339.60   \n",
       "23                1         credit_card    0.0788       484.85   \n",
       "24                1  debt_consolidation    0.1229       320.19   \n",
       "25                1           all_other    0.0901       159.03   \n",
       "26                1           all_other    0.0743       155.38   \n",
       "27                1  debt_consolidation    0.1375       255.43   \n",
       "28                1           all_other    0.0743       155.38   \n",
       "29                1           all_other    0.0743       155.38   \n",
       "...             ...                 ...       ...          ...   \n",
       "9548              0    home_improvement    0.1607        87.99   \n",
       "9549              0    home_improvement    0.2164       729.70   \n",
       "9550              0           all_other    0.1459       137.86   \n",
       "9551              0    home_improvement    0.1348       508.87   \n",
       "9552              0  debt_consolidation    0.1311       337.45   \n",
       "9553              0  debt_consolidation    0.1385       545.67   \n",
       "9554              0      small_business    0.1533       870.71   \n",
       "9555              0    home_improvement    0.1311       674.90   \n",
       "9556              0  debt_consolidation    0.1385       136.42   \n",
       "9557              0         credit_card    0.1025       466.35   \n",
       "9558              0  debt_consolidation    0.1533       696.57   \n",
       "9559              0         credit_card    0.1273       688.11   \n",
       "9560              0           all_other    0.1867       547.36   \n",
       "9561              0           all_other    0.0788       115.74   \n",
       "9562              0  debt_consolidation    0.1348       508.87   \n",
       "9563              0  debt_consolidation    0.1099       556.50   \n",
       "9564              0           all_other    0.1385       511.56   \n",
       "9565              0           all_other    0.1459       396.35   \n",
       "9566              0           all_other    0.2164       551.08   \n",
       "9567              0           all_other    0.1311       101.24   \n",
       "9568              0           all_other    0.1979        37.06   \n",
       "9569              0    home_improvement    0.1426       823.34   \n",
       "9570              0           all_other    0.1671       113.63   \n",
       "9571              0           all_other    0.1568       161.01   \n",
       "9572              0  debt_consolidation    0.1565        69.98   \n",
       "9573              0           all_other    0.1461       344.76   \n",
       "9574              0           all_other    0.1253       257.70   \n",
       "9575              0  debt_consolidation    0.1071        97.81   \n",
       "9576              0    home_improvement    0.1600       351.58   \n",
       "9577              0  debt_consolidation    0.1392       853.43   \n",
       "\n",
       "      log.annual.inc    dti  fico  days.with.cr.line  revol.bal  revol.util  \\\n",
       "0          11.350407  19.48   737        5639.958333      28854        52.1   \n",
       "1          11.082143  14.29   707        2760.000000      33623        76.7   \n",
       "2          10.373491  11.63   682        4710.000000       3511        25.6   \n",
       "3          11.350407   8.10   712        2699.958333      33667        73.2   \n",
       "4          11.299732  14.97   667        4066.000000       4740        39.5   \n",
       "5          11.904968  16.98   727        6120.041667      50807        51.0   \n",
       "6          10.714418   4.00   667        3180.041667       3839        76.8   \n",
       "7          11.002100  11.08   722        5116.000000      24220        68.6   \n",
       "8          11.407565  17.25   682        3989.000000      69909        51.1   \n",
       "9          10.203592  10.00   707        2730.041667       5630        23.0   \n",
       "10         10.434116  22.09   677        6713.041667      13846        71.0   \n",
       "11         11.835009   9.16   662        4298.000000       5122        18.2   \n",
       "12         10.933107  15.49   767        6519.958333       6068        16.7   \n",
       "13         11.512925   6.50   747        4384.000000       3021         4.8   \n",
       "14          9.487972   9.73   727        1559.958333       6282        44.6   \n",
       "15         10.738915  13.04   702        8159.958333       5394        53.4   \n",
       "16         10.522773   2.26   672        3895.958333       2211        88.4   \n",
       "17         11.608236   7.07   797        6510.958333       7586        52.7   \n",
       "18         10.491274   3.80   712        2760.000000       8311        59.8   \n",
       "19         11.002100   2.74   667        1126.958333        591        84.4   \n",
       "20         11.225243  16.08   772        4888.958333      29797        23.2   \n",
       "21         10.819778   2.59   797       11951.000000       5656        27.6   \n",
       "22         11.512925   7.94   662        1939.958333      21162        57.7   \n",
       "23         11.736069   7.05   782        5640.041667      16931        34.6   \n",
       "24         11.264464   8.80   672        3760.958333       4822        58.1   \n",
       "25         12.429216  10.00   712        1553.958333      14354        36.6   \n",
       "26         11.082143   0.28   802        4649.958333       1576         5.7   \n",
       "27          9.998798  14.29   662        1318.958333       4175        51.5   \n",
       "28         12.206073   0.28   772        4516.958333       3164        13.7   \n",
       "29         12.206073   3.72   812        6778.958333      85607         0.7   \n",
       "...              ...    ...   ...                ...        ...         ...   \n",
       "9548       10.778956  14.20   667        4080.000000       1530        36.4   \n",
       "9549       11.877569   8.63   667        8280.041667      55442        66.9   \n",
       "9550       10.085809   1.15   732        1230.041667        972        11.3   \n",
       "9551       11.736069  16.85   707        7440.041667     206877        92.5   \n",
       "9552       10.691945  23.62   702        3780.041667       6255        56.9   \n",
       "9553       11.775290  10.80   697        4110.000000     197716        74.9   \n",
       "9554       11.842229  16.16   707        4230.041667      56909        49.8   \n",
       "9555       12.292250   9.94   717        5730.041667      39576        27.7   \n",
       "9556       11.002100  18.18   677        3423.041667      15301        85.0   \n",
       "9557       12.206073  13.97   722        6120.041667     338935        78.3   \n",
       "9558       11.805595  17.21   682        2790.041667      38578        86.9   \n",
       "9559       11.314475  21.13   732        5881.000000      35227        54.3   \n",
       "9560       11.407565  15.76   667       10050.041670      13255        88.4   \n",
       "9561       10.999095  10.17   722        4410.000000      11586        61.6   \n",
       "9562       10.933107  17.76   717        3870.041667       8760        28.2   \n",
       "9563       11.225243  17.84   727        6840.041667      18753        29.0   \n",
       "9564       12.323856  12.33   687        6420.041667     385489        51.2   \n",
       "9565       10.308953  21.04   697        3390.000000      26117        78.4   \n",
       "9566       11.002100  24.06   662        1800.000000      16441        49.8   \n",
       "9567       10.968198   8.23   687        2790.041667       1514        13.8   \n",
       "9568       10.645425  22.17   667        5916.000000      28854        59.8   \n",
       "9569       12.429216   3.62   722        3239.958333      33575        83.9   \n",
       "9570       10.645425  28.06   672        3210.041667      25759        63.8   \n",
       "9571       11.225243   8.00   677        7230.000000       6909        29.2   \n",
       "9572       10.110472   7.02   662        8190.041667       2999        39.5   \n",
       "9573       12.180755  10.39   672       10474.000000     215372        82.1   \n",
       "9574       11.141862   0.21   722        4380.000000        184         1.1   \n",
       "9575       10.596635  13.09   687        3450.041667      10036        82.9   \n",
       "9576       10.819778  19.18   692        1800.000000          0         3.2   \n",
       "9577       11.264464  16.28   732        4740.000000      37879        57.0   \n",
       "\n",
       "      inq.last.6mths  delinq.2yrs  pub.rec  not.fully.paid  \n",
       "0                  0            0        0               0  \n",
       "1                  0            0        0               0  \n",
       "2                  1            0        0               0  \n",
       "3                  1            0        0               0  \n",
       "4                  0            1        0               0  \n",
       "5                  0            0        0               0  \n",
       "6                  0            0        1               1  \n",
       "7                  0            0        0               1  \n",
       "8                  1            0        0               0  \n",
       "9                  1            0        0               0  \n",
       "10                 2            0        1               0  \n",
       "11                 2            1        0               0  \n",
       "12                 0            0        0               0  \n",
       "13                 0            1        0               0  \n",
       "14                 0            0        0               0  \n",
       "15                 1            0        0               0  \n",
       "16                 0            0        0               0  \n",
       "17                 1            0        0               0  \n",
       "18                 0            0        0               0  \n",
       "19                 3            0        0               0  \n",
       "20                 1            0        0               0  \n",
       "21                 0            0        0               0  \n",
       "22                 0            0        0               0  \n",
       "23                 1            0        0               0  \n",
       "24                 0            0        1               0  \n",
       "25                 0            2        0               0  \n",
       "26                 1            0        0               0  \n",
       "27                 0            1        0               0  \n",
       "28                 0            0        0               0  \n",
       "29                 0            0        0               0  \n",
       "...              ...          ...      ...             ...  \n",
       "9548               7            0        0               1  \n",
       "9549               9            0        1               1  \n",
       "9550               5            0        0               0  \n",
       "9551               1            0        0               1  \n",
       "9552               5            2        0               0  \n",
       "9553               4            0        0               0  \n",
       "9554               5            0        0               0  \n",
       "9555               5            0        0               1  \n",
       "9556               4            0        0               0  \n",
       "9557               2            0        0               0  \n",
       "9558               4            0        0               0  \n",
       "9559               5            0        0               0  \n",
       "9560               7            0        0               0  \n",
       "9561               4            0        0               0  \n",
       "9562               6            0        0               0  \n",
       "9563               4            0        0               1  \n",
       "9564               4            0        0               0  \n",
       "9565               6            0        0               1  \n",
       "9566               9            0        0               1  \n",
       "9567               5            0        0               0  \n",
       "9568               6            0        1               0  \n",
       "9569               5            0        0               1  \n",
       "9570               5            0        0               1  \n",
       "9571               4            0        1               1  \n",
       "9572               6            0        0               1  \n",
       "9573               2            0        0               1  \n",
       "9574               5            0        0               1  \n",
       "9575               8            0        0               1  \n",
       "9576               5            0        0               1  \n",
       "9577               6            0        0               1  \n",
       "\n",
       "[9578 rows x 14 columns]>"
      ]
     },
     "execution_count": 3,
     "metadata": {},
     "output_type": "execute_result"
    }
   ],
   "source": [
    "loans.head"
   ]
  },
  {
   "cell_type": "code",
   "execution_count": 5,
   "metadata": {},
   "outputs": [
    {
     "name": "stdout",
     "output_type": "stream",
     "text": [
      "<class 'pandas.core.frame.DataFrame'>\n",
      "RangeIndex: 9578 entries, 0 to 9577\n",
      "Data columns (total 14 columns):\n",
      "credit.policy        9578 non-null int64\n",
      "purpose              9578 non-null object\n",
      "int.rate             9578 non-null float64\n",
      "installment          9578 non-null float64\n",
      "log.annual.inc       9578 non-null float64\n",
      "dti                  9578 non-null float64\n",
      "fico                 9578 non-null int64\n",
      "days.with.cr.line    9578 non-null float64\n",
      "revol.bal            9578 non-null int64\n",
      "revol.util           9578 non-null float64\n",
      "inq.last.6mths       9578 non-null int64\n",
      "delinq.2yrs          9578 non-null int64\n",
      "pub.rec              9578 non-null int64\n",
      "not.fully.paid       9578 non-null int64\n",
      "dtypes: float64(6), int64(7), object(1)\n",
      "memory usage: 1.0+ MB\n"
     ]
    }
   ],
   "source": [
    "loans.info()"
   ]
  },
  {
   "cell_type": "code",
   "execution_count": 4,
   "metadata": {},
   "outputs": [
    {
     "data": {
      "text/plain": [
       "<bound method DataFrame.describe of       credit.policy             purpose  int.rate  installment  \\\n",
       "0                 1  debt_consolidation    0.1189       829.10   \n",
       "1                 1         credit_card    0.1071       228.22   \n",
       "2                 1  debt_consolidation    0.1357       366.86   \n",
       "3                 1  debt_consolidation    0.1008       162.34   \n",
       "4                 1         credit_card    0.1426       102.92   \n",
       "5                 1         credit_card    0.0788       125.13   \n",
       "6                 1  debt_consolidation    0.1496       194.02   \n",
       "7                 1           all_other    0.1114       131.22   \n",
       "8                 1    home_improvement    0.1134        87.19   \n",
       "9                 1  debt_consolidation    0.1221        84.12   \n",
       "10                1  debt_consolidation    0.1347       360.43   \n",
       "11                1  debt_consolidation    0.1324       253.58   \n",
       "12                1  debt_consolidation    0.0859       316.11   \n",
       "13                1      small_business    0.0714        92.82   \n",
       "14                1  debt_consolidation    0.0863       209.54   \n",
       "15                1      major_purchase    0.1103       327.53   \n",
       "16                1           all_other    0.1317        77.69   \n",
       "17                1         credit_card    0.0894       476.58   \n",
       "18                1  debt_consolidation    0.1039       584.12   \n",
       "19                1      major_purchase    0.1513       173.65   \n",
       "20                1           all_other    0.0800       188.02   \n",
       "21                1           all_other    0.0863       474.42   \n",
       "22                1         credit_card    0.1355       339.60   \n",
       "23                1         credit_card    0.0788       484.85   \n",
       "24                1  debt_consolidation    0.1229       320.19   \n",
       "25                1           all_other    0.0901       159.03   \n",
       "26                1           all_other    0.0743       155.38   \n",
       "27                1  debt_consolidation    0.1375       255.43   \n",
       "28                1           all_other    0.0743       155.38   \n",
       "29                1           all_other    0.0743       155.38   \n",
       "...             ...                 ...       ...          ...   \n",
       "9548              0    home_improvement    0.1607        87.99   \n",
       "9549              0    home_improvement    0.2164       729.70   \n",
       "9550              0           all_other    0.1459       137.86   \n",
       "9551              0    home_improvement    0.1348       508.87   \n",
       "9552              0  debt_consolidation    0.1311       337.45   \n",
       "9553              0  debt_consolidation    0.1385       545.67   \n",
       "9554              0      small_business    0.1533       870.71   \n",
       "9555              0    home_improvement    0.1311       674.90   \n",
       "9556              0  debt_consolidation    0.1385       136.42   \n",
       "9557              0         credit_card    0.1025       466.35   \n",
       "9558              0  debt_consolidation    0.1533       696.57   \n",
       "9559              0         credit_card    0.1273       688.11   \n",
       "9560              0           all_other    0.1867       547.36   \n",
       "9561              0           all_other    0.0788       115.74   \n",
       "9562              0  debt_consolidation    0.1348       508.87   \n",
       "9563              0  debt_consolidation    0.1099       556.50   \n",
       "9564              0           all_other    0.1385       511.56   \n",
       "9565              0           all_other    0.1459       396.35   \n",
       "9566              0           all_other    0.2164       551.08   \n",
       "9567              0           all_other    0.1311       101.24   \n",
       "9568              0           all_other    0.1979        37.06   \n",
       "9569              0    home_improvement    0.1426       823.34   \n",
       "9570              0           all_other    0.1671       113.63   \n",
       "9571              0           all_other    0.1568       161.01   \n",
       "9572              0  debt_consolidation    0.1565        69.98   \n",
       "9573              0           all_other    0.1461       344.76   \n",
       "9574              0           all_other    0.1253       257.70   \n",
       "9575              0  debt_consolidation    0.1071        97.81   \n",
       "9576              0    home_improvement    0.1600       351.58   \n",
       "9577              0  debt_consolidation    0.1392       853.43   \n",
       "\n",
       "      log.annual.inc    dti  fico  days.with.cr.line  revol.bal  revol.util  \\\n",
       "0          11.350407  19.48   737        5639.958333      28854        52.1   \n",
       "1          11.082143  14.29   707        2760.000000      33623        76.7   \n",
       "2          10.373491  11.63   682        4710.000000       3511        25.6   \n",
       "3          11.350407   8.10   712        2699.958333      33667        73.2   \n",
       "4          11.299732  14.97   667        4066.000000       4740        39.5   \n",
       "5          11.904968  16.98   727        6120.041667      50807        51.0   \n",
       "6          10.714418   4.00   667        3180.041667       3839        76.8   \n",
       "7          11.002100  11.08   722        5116.000000      24220        68.6   \n",
       "8          11.407565  17.25   682        3989.000000      69909        51.1   \n",
       "9          10.203592  10.00   707        2730.041667       5630        23.0   \n",
       "10         10.434116  22.09   677        6713.041667      13846        71.0   \n",
       "11         11.835009   9.16   662        4298.000000       5122        18.2   \n",
       "12         10.933107  15.49   767        6519.958333       6068        16.7   \n",
       "13         11.512925   6.50   747        4384.000000       3021         4.8   \n",
       "14          9.487972   9.73   727        1559.958333       6282        44.6   \n",
       "15         10.738915  13.04   702        8159.958333       5394        53.4   \n",
       "16         10.522773   2.26   672        3895.958333       2211        88.4   \n",
       "17         11.608236   7.07   797        6510.958333       7586        52.7   \n",
       "18         10.491274   3.80   712        2760.000000       8311        59.8   \n",
       "19         11.002100   2.74   667        1126.958333        591        84.4   \n",
       "20         11.225243  16.08   772        4888.958333      29797        23.2   \n",
       "21         10.819778   2.59   797       11951.000000       5656        27.6   \n",
       "22         11.512925   7.94   662        1939.958333      21162        57.7   \n",
       "23         11.736069   7.05   782        5640.041667      16931        34.6   \n",
       "24         11.264464   8.80   672        3760.958333       4822        58.1   \n",
       "25         12.429216  10.00   712        1553.958333      14354        36.6   \n",
       "26         11.082143   0.28   802        4649.958333       1576         5.7   \n",
       "27          9.998798  14.29   662        1318.958333       4175        51.5   \n",
       "28         12.206073   0.28   772        4516.958333       3164        13.7   \n",
       "29         12.206073   3.72   812        6778.958333      85607         0.7   \n",
       "...              ...    ...   ...                ...        ...         ...   \n",
       "9548       10.778956  14.20   667        4080.000000       1530        36.4   \n",
       "9549       11.877569   8.63   667        8280.041667      55442        66.9   \n",
       "9550       10.085809   1.15   732        1230.041667        972        11.3   \n",
       "9551       11.736069  16.85   707        7440.041667     206877        92.5   \n",
       "9552       10.691945  23.62   702        3780.041667       6255        56.9   \n",
       "9553       11.775290  10.80   697        4110.000000     197716        74.9   \n",
       "9554       11.842229  16.16   707        4230.041667      56909        49.8   \n",
       "9555       12.292250   9.94   717        5730.041667      39576        27.7   \n",
       "9556       11.002100  18.18   677        3423.041667      15301        85.0   \n",
       "9557       12.206073  13.97   722        6120.041667     338935        78.3   \n",
       "9558       11.805595  17.21   682        2790.041667      38578        86.9   \n",
       "9559       11.314475  21.13   732        5881.000000      35227        54.3   \n",
       "9560       11.407565  15.76   667       10050.041670      13255        88.4   \n",
       "9561       10.999095  10.17   722        4410.000000      11586        61.6   \n",
       "9562       10.933107  17.76   717        3870.041667       8760        28.2   \n",
       "9563       11.225243  17.84   727        6840.041667      18753        29.0   \n",
       "9564       12.323856  12.33   687        6420.041667     385489        51.2   \n",
       "9565       10.308953  21.04   697        3390.000000      26117        78.4   \n",
       "9566       11.002100  24.06   662        1800.000000      16441        49.8   \n",
       "9567       10.968198   8.23   687        2790.041667       1514        13.8   \n",
       "9568       10.645425  22.17   667        5916.000000      28854        59.8   \n",
       "9569       12.429216   3.62   722        3239.958333      33575        83.9   \n",
       "9570       10.645425  28.06   672        3210.041667      25759        63.8   \n",
       "9571       11.225243   8.00   677        7230.000000       6909        29.2   \n",
       "9572       10.110472   7.02   662        8190.041667       2999        39.5   \n",
       "9573       12.180755  10.39   672       10474.000000     215372        82.1   \n",
       "9574       11.141862   0.21   722        4380.000000        184         1.1   \n",
       "9575       10.596635  13.09   687        3450.041667      10036        82.9   \n",
       "9576       10.819778  19.18   692        1800.000000          0         3.2   \n",
       "9577       11.264464  16.28   732        4740.000000      37879        57.0   \n",
       "\n",
       "      inq.last.6mths  delinq.2yrs  pub.rec  not.fully.paid  \n",
       "0                  0            0        0               0  \n",
       "1                  0            0        0               0  \n",
       "2                  1            0        0               0  \n",
       "3                  1            0        0               0  \n",
       "4                  0            1        0               0  \n",
       "5                  0            0        0               0  \n",
       "6                  0            0        1               1  \n",
       "7                  0            0        0               1  \n",
       "8                  1            0        0               0  \n",
       "9                  1            0        0               0  \n",
       "10                 2            0        1               0  \n",
       "11                 2            1        0               0  \n",
       "12                 0            0        0               0  \n",
       "13                 0            1        0               0  \n",
       "14                 0            0        0               0  \n",
       "15                 1            0        0               0  \n",
       "16                 0            0        0               0  \n",
       "17                 1            0        0               0  \n",
       "18                 0            0        0               0  \n",
       "19                 3            0        0               0  \n",
       "20                 1            0        0               0  \n",
       "21                 0            0        0               0  \n",
       "22                 0            0        0               0  \n",
       "23                 1            0        0               0  \n",
       "24                 0            0        1               0  \n",
       "25                 0            2        0               0  \n",
       "26                 1            0        0               0  \n",
       "27                 0            1        0               0  \n",
       "28                 0            0        0               0  \n",
       "29                 0            0        0               0  \n",
       "...              ...          ...      ...             ...  \n",
       "9548               7            0        0               1  \n",
       "9549               9            0        1               1  \n",
       "9550               5            0        0               0  \n",
       "9551               1            0        0               1  \n",
       "9552               5            2        0               0  \n",
       "9553               4            0        0               0  \n",
       "9554               5            0        0               0  \n",
       "9555               5            0        0               1  \n",
       "9556               4            0        0               0  \n",
       "9557               2            0        0               0  \n",
       "9558               4            0        0               0  \n",
       "9559               5            0        0               0  \n",
       "9560               7            0        0               0  \n",
       "9561               4            0        0               0  \n",
       "9562               6            0        0               0  \n",
       "9563               4            0        0               1  \n",
       "9564               4            0        0               0  \n",
       "9565               6            0        0               1  \n",
       "9566               9            0        0               1  \n",
       "9567               5            0        0               0  \n",
       "9568               6            0        1               0  \n",
       "9569               5            0        0               1  \n",
       "9570               5            0        0               1  \n",
       "9571               4            0        1               1  \n",
       "9572               6            0        0               1  \n",
       "9573               2            0        0               1  \n",
       "9574               5            0        0               1  \n",
       "9575               8            0        0               1  \n",
       "9576               5            0        0               1  \n",
       "9577               6            0        0               1  \n",
       "\n",
       "[9578 rows x 14 columns]>"
      ]
     },
     "execution_count": 4,
     "metadata": {},
     "output_type": "execute_result"
    }
   ],
   "source": [
    "loans.describe"
   ]
  },
  {
   "cell_type": "markdown",
   "metadata": {},
   "source": [
    "<b> Exploratory Data Analysis of the data, run some visuals, look for outliers. "
   ]
  },
  {
   "cell_type": "code",
   "execution_count": 7,
   "metadata": {},
   "outputs": [
    {
     "data": {
      "text/plain": [
       "Text(0.5,0,'FICO')"
      ]
     },
     "execution_count": 7,
     "metadata": {},
     "output_type": "execute_result"
    },
    {
     "data": {
      "image/png": "[encoded data removed]",
      "text/plain": [
       "<Figure size 720x432 with 1 Axes>"
      ]
     },
     "metadata": {
      "needs_background": "light"
     },
     "output_type": "display_data"
    }
   ],
   "source": [
    "plt.figure(figsize=(10,6))\n",
    "loans[loans['credit.policy']==1]['fico'].hist(alpha=0.5,color='blue',\n",
    "                                              bins=30,label='Credit.Policy=1')\n",
    "loans[loans['credit.policy']==0]['fico'].hist(alpha=0.5,color='red',\n",
    "                                             bins=30,label='Credit.Policy=0')\n",
    "plt.legend()\n",
    "plt.xlabel('FICO')"
   ]
  },
  {
   "cell_type": "markdown",
   "metadata": {},
   "source": [
    "<b> Check data for fully paid vs not fully paid loans. "
   ]
  },
  {
   "cell_type": "code",
   "execution_count": 9,
   "metadata": {},
   "outputs": [
    {
     "data": {
      "text/plain": [
       "Text(0.5,0,'FICO')"
      ]
     },
     "execution_count": 9,
     "metadata": {},
     "output_type": "execute_result"
    },
    {
     "data": {
      "image/png": "[encoded data removed]",
      "text/plain": [
       "<Figure size 720x432 with 1 Axes>"
      ]
     },
     "metadata": {
      "needs_background": "light"
     },
     "output_type": "display_data"
    }
   ],
   "source": [
    "plt.figure(figsize=(10,6))\n",
    "loans[loans['not.fully.paid']==1]['fico'].hist(alpha=0.5,color='blue',\n",
    "                                              bins=30,label='not.fully.paid=1')\n",
    "loans[loans['not.fully.paid']==0]['fico'].hist(alpha=0.5,color='red',\n",
    "                                              bins=30,label='not.fully.paid=0')\n",
    "plt.legend()\n",
    "plt.xlabel('FICO')"
   ]
  },
  {
   "cell_type": "markdown",
   "metadata": {},
   "source": [
    "<b> Plot the data side by side as histogram for  2 values of not.fully.paid"
   ]
  },
  {
   "cell_type": "code",
   "execution_count": 10,
   "metadata": {
    "scrolled": true
   },
   "outputs": [
    {
     "data": {
      "text/plain": [
       "<matplotlib.axes._subplots.AxesSubplot at 0x1216b9c90>"
      ]
     },
     "execution_count": 10,
     "metadata": {},
     "output_type": "execute_result"
    },
    {
     "data": {
      "image/png": "[encoded data removed]",
      "text/plain": [
       "<Figure size 792x504 with 1 Axes>"
      ]
     },
     "metadata": {
      "needs_background": "light"
     },
     "output_type": "display_data"
    }
   ],
   "source": [
    "plt.figure(figsize=(11,7))\n",
    "sns.countplot(x='purpose',hue='not.fully.paid',data=loans,palette='Set1')"
   ]
  },
  {
   "cell_type": "markdown",
   "metadata": {},
   "source": []
  },
  {
   "cell_type": "markdown",
   "metadata": {},
   "source": [
    "<b> FICO score vs Interest rate "
   ]
  },
  {
   "cell_type": "code",
   "execution_count": 11,
   "metadata": {},
   "outputs": [
    {
     "data": {
      "text/plain": [
       "<seaborn.axisgrid.JointGrid at 0x11b5a4910>"
      ]
     },
     "execution_count": 11,
     "metadata": {},
     "output_type": "execute_result"
    },
    {
     "data": {
      "image/png": "[encoded data removed]",
      "text/plain": [
       "<Figure size 432x432 with 3 Axes>"
      ]
     },
     "metadata": {
      "needs_background": "light"
     },
     "output_type": "display_data"
    }
   ],
   "source": [
    "sns.jointplot(x='fico',y='int.rate',data=loans,color='purple')"
   ]
  },
  {
   "cell_type": "markdown",
   "metadata": {},
   "source": [
    "<b>Setting up data for Random Forest Model "
   ]
  },
  {
   "cell_type": "code",
   "execution_count": 12,
   "metadata": {},
   "outputs": [
    {
     "name": "stdout",
     "output_type": "stream",
     "text": [
      "<class 'pandas.core.frame.DataFrame'>\n",
      "RangeIndex: 9578 entries, 0 to 9577\n",
      "Data columns (total 14 columns):\n",
      "credit.policy        9578 non-null int64\n",
      "purpose              9578 non-null object\n",
      "int.rate             9578 non-null float64\n",
      "installment          9578 non-null float64\n",
      "log.annual.inc       9578 non-null float64\n",
      "dti                  9578 non-null float64\n",
      "fico                 9578 non-null int64\n",
      "days.with.cr.line    9578 non-null float64\n",
      "revol.bal            9578 non-null int64\n",
      "revol.util           9578 non-null float64\n",
      "inq.last.6mths       9578 non-null int64\n",
      "delinq.2yrs          9578 non-null int64\n",
      "pub.rec              9578 non-null int64\n",
      "not.fully.paid       9578 non-null int64\n",
      "dtypes: float64(6), int64(7), object(1)\n",
      "memory usage: 1.0+ MB\n"
     ]
    }
   ],
   "source": [
    "loans.info()"
   ]
  },
  {
   "cell_type": "code",
   "execution_count": 13,
   "metadata": {},
   "outputs": [],
   "source": [
    "cat_ftr = ['purpose']"
   ]
  },
  {
   "cell_type": "code",
   "execution_count": 14,
   "metadata": {},
   "outputs": [],
   "source": [
    "#dealing with categorical var \n",
    "final_data = pd.get_dummies(loans,columns=cat_ftr,drop_first=True)"
   ]
  },
  {
   "cell_type": "code",
   "execution_count": 15,
   "metadata": {},
   "outputs": [
    {
     "name": "stdout",
     "output_type": "stream",
     "text": [
      "<class 'pandas.core.frame.DataFrame'>\n",
      "RangeIndex: 9578 entries, 0 to 9577\n",
      "Data columns (total 19 columns):\n",
      "credit.policy                 9578 non-null int64\n",
      "int.rate                      9578 non-null float64\n",
      "installment                   9578 non-null float64\n",
      "log.annual.inc                9578 non-null float64\n",
      "dti                           9578 non-null float64\n",
      "fico                          9578 non-null int64\n",
      "days.with.cr.line             9578 non-null float64\n",
      "revol.bal                     9578 non-null int64\n",
      "revol.util                    9578 non-null float64\n",
      "inq.last.6mths                9578 non-null int64\n",
      "delinq.2yrs                   9578 non-null int64\n",
      "pub.rec                       9578 non-null int64\n",
      "not.fully.paid                9578 non-null int64\n",
      "purpose_credit_card           9578 non-null uint8\n",
      "purpose_debt_consolidation    9578 non-null uint8\n",
      "purpose_educational           9578 non-null uint8\n",
      "purpose_home_improvement      9578 non-null uint8\n",
      "purpose_major_purchase        9578 non-null uint8\n",
      "purpose_small_business        9578 non-null uint8\n",
      "dtypes: float64(6), int64(7), uint8(6)\n",
      "memory usage: 1.0 MB\n"
     ]
    }
   ],
   "source": [
    "final_data.info()"
   ]
  },
  {
   "cell_type": "markdown",
   "metadata": {},
   "source": [
    "<b> Train Test Split using Sklearn"
   ]
  },
  {
   "cell_type": "code",
   "execution_count": 16,
   "metadata": {},
   "outputs": [],
   "source": [
    "from sklearn.model_selection import train_test_split"
   ]
  },
  {
   "cell_type": "code",
   "execution_count": 17,
   "metadata": {},
   "outputs": [],
   "source": [
    "X = final_data.drop('not.fully.paid',axis=1)\n",
    "y = final_data['not.fully.paid']\n",
    "X_train, X_test, y_train, y_test = train_test_split(X, y, test_size=0.30, random_state=101)"
   ]
  },
  {
   "cell_type": "markdown",
   "metadata": {},
   "source": [
    "<b>Training a Decision Tree Model\n",
    "    "
   ]
  },
  {
   "cell_type": "code",
   "execution_count": 18,
   "metadata": {},
   "outputs": [],
   "source": [
    "from sklearn.tree import DecisionTreeClassifier"
   ]
  },
  {
   "cell_type": "code",
   "execution_count": 19,
   "metadata": {},
   "outputs": [],
   "source": [
    "#instantiate Decision tree classifier\n",
    "dtree = DecisionTreeClassifier()"
   ]
  },
  {
   "cell_type": "code",
   "execution_count": 20,
   "metadata": {},
   "outputs": [
    {
     "data": {
      "text/plain": [
       "DecisionTreeClassifier(class_weight=None, criterion='gini', max_depth=None,\n",
       "            max_features=None, max_leaf_nodes=None,\n",
       "            min_impurity_decrease=0.0, min_impurity_split=None,\n",
       "            min_samples_leaf=1, min_samples_split=2,\n",
       "            min_weight_fraction_leaf=0.0, presort=False, random_state=None,\n",
       "            splitter='best')"
      ]
     },
     "execution_count": 20,
     "metadata": {},
     "output_type": "execute_result"
    }
   ],
   "source": [
    "dtree.fit(X_train,y_train)"
   ]
  },
  {
   "cell_type": "markdown",
   "metadata": {},
   "source": [
    "# Predictions and Evaluation of Decision Tree\n",
    "Create predictions from the test set and create a classification report and a confusion matrix."
   ]
  },
  {
   "cell_type": "code",
   "execution_count": 21,
   "metadata": {},
   "outputs": [],
   "source": [
    "predictions = dtree.predict(X_test)"
   ]
  },
  {
   "cell_type": "code",
   "execution_count": 22,
   "metadata": {},
   "outputs": [],
   "source": [
    "from sklearn.metrics import classification_report,confusion_matrix"
   ]
  },
  {
   "cell_type": "code",
   "execution_count": 23,
   "metadata": {},
   "outputs": [
    {
     "name": "stdout",
     "output_type": "stream",
     "text": [
      "              precision    recall  f1-score   support\n",
      "\n",
      "           0       0.85      0.82      0.84      2431\n",
      "           1       0.18      0.21      0.20       443\n",
      "\n",
      "   micro avg       0.73      0.73      0.73      2874\n",
      "   macro avg       0.52      0.52      0.52      2874\n",
      "weighted avg       0.75      0.73      0.74      2874\n",
      "\n"
     ]
    }
   ],
   "source": [
    "print(classification_report(y_test,predictions))"
   ]
  },
  {
   "cell_type": "code",
   "execution_count": 24,
   "metadata": {},
   "outputs": [
    {
     "name": "stdout",
     "output_type": "stream",
     "text": [
      "[[1996  435]\n",
      " [ 348   95]]\n"
     ]
    }
   ],
   "source": [
    "print(confusion_matrix(y_test,predictions))"
   ]
  },
  {
   "cell_type": "markdown",
   "metadata": {},
   "source": [
    "# Training the Random Forest model\n",
    "Now its time to train our model!\n",
    "Create an instance of the RandomForestClassifier class and fit it to our training data from the previous step."
   ]
  },
  {
   "cell_type": "code",
   "execution_count": 25,
   "metadata": {},
   "outputs": [],
   "source": [
    "from sklearn.ensemble import RandomForestClassifier"
   ]
  },
  {
   "cell_type": "code",
   "execution_count": 26,
   "metadata": {},
   "outputs": [],
   "source": [
    "rfc = RandomForestClassifier(n_estimators=600)"
   ]
  },
  {
   "cell_type": "code",
   "execution_count": 27,
   "metadata": {},
   "outputs": [
    {
     "data": {
      "text/plain": [
       "RandomForestClassifier(bootstrap=True, class_weight=None, criterion='gini',\n",
       "            max_depth=None, max_features='auto', max_leaf_nodes=None,\n",
       "            min_impurity_decrease=0.0, min_impurity_split=None,\n",
       "            min_samples_leaf=1, min_samples_split=2,\n",
       "            min_weight_fraction_leaf=0.0, n_estimators=600, n_jobs=None,\n",
       "            oob_score=False, random_state=None, verbose=0,\n",
       "            warm_start=False)"
      ]
     },
     "execution_count": 27,
     "metadata": {},
     "output_type": "execute_result"
    }
   ],
   "source": [
    "rfc.fit(X_train,y_train)"
   ]
  },
  {
   "cell_type": "markdown",
   "metadata": {},
   "source": [
    "# Predictions and Evaluation\n",
    "Let's predict off the y_test values and evaluate our model.\n"
   ]
  },
  {
   "cell_type": "code",
   "execution_count": 28,
   "metadata": {},
   "outputs": [],
   "source": [
    "predictions = rfc.predict(X_test)"
   ]
  },
  {
   "cell_type": "code",
   "execution_count": 29,
   "metadata": {},
   "outputs": [],
   "source": [
    "from sklearn.metrics import classification_report,confusion_matrix"
   ]
  },
  {
   "cell_type": "code",
   "execution_count": 30,
   "metadata": {},
   "outputs": [
    {
     "name": "stdout",
     "output_type": "stream",
     "text": [
      "              precision    recall  f1-score   support\n",
      "\n",
      "           0       0.85      1.00      0.92      2431\n",
      "           1       0.59      0.02      0.04       443\n",
      "\n",
      "   micro avg       0.85      0.85      0.85      2874\n",
      "   macro avg       0.72      0.51      0.48      2874\n",
      "weighted avg       0.81      0.85      0.78      2874\n",
      "\n"
     ]
    }
   ],
   "source": [
    "print(classification_report(y_test,predictions))"
   ]
  },
  {
   "cell_type": "markdown",
   "metadata": {},
   "source": [
    "# Show the Confusion Matrix for the predictions.\n"
   ]
  },
  {
   "cell_type": "code",
   "execution_count": 31,
   "metadata": {},
   "outputs": [
    {
     "name": "stdout",
     "output_type": "stream",
     "text": [
      "[[2424    7]\n",
      " [ 433   10]]\n"
     ]
    }
   ],
   "source": [
    "print(confusion_matrix(y_test,predictions))"
   ]
  },
  {
   "cell_type": "code",
   "execution_count": null,
   "metadata": {},
   "outputs": [],
   "source": []
  }
 ],
 "metadata": {
  "kernelspec": {
   "display_name": "Python 2",
   "language": "python",
   "name": "python2"
  },
  "language_info": {
   "codemirror_mode": {
    "name": "ipython",
    "version": 2
   },
   "file_extension": ".py",
   "mimetype": "text/x-python",
   "name": "python",
   "nbconvert_exporter": "python",
   "pygments_lexer": "ipython2",
   "version": "2.7.18"
  }
 },
 "nbformat": 4,
 "nbformat_minor": 2
}
